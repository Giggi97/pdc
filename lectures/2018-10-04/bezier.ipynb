{
 "cells": [
  {
   "cell_type": "markdown",
   "metadata": {},
   "source": [
    "$\\newcommand{\\E}{\\mathbb{E}}$\n",
    "$\\newcommand{\\R}{\\mathbb{R}}$\n",
    "$\\newcommand{\\Z}{\\mathbb{Z}}$\n",
    "$\\newcommand{\\N}{\\mathbb{N}}$\n",
    "$\\newcommand{\\v}[1]{\\textbf{#1}}$\n",
    "$\\newcommand{\\p}[1]{\\textbf{#1}}$\n",
    "$\\newcommand{\\T}[1]{\\textbf{#1}}$\n",
    "$\\newcommand{\\vet}[1]{{\\left(\\begin{array}{cccccccccccccccccccc}#1\\end{array}\\right)}}$\n",
    "$\\newcommand{\\mat}[1]{{\\left(\\begin{array}{cccccccccccccccccccccccccccc}#1\\end{array}\\right)}}$\n"
   ]
  },
  {
   "cell_type": "code",
   "execution_count": 1,
   "metadata": {},
   "outputs": [
    {
     "name": "stdout",
     "output_type": "stream",
     "text": [
      "Creating shared GLCanvas...\n",
      "shared GLCanvas created\n"
     ]
    },
    {
     "data": {
      "text/plain": [
       "Plasm"
      ]
     },
     "execution_count": 1,
     "metadata": {},
     "output_type": "execute_result"
    }
   ],
   "source": [
    "using LinearAlgebraicRepresentation\n",
    "using Plasm\n",
    "Lar = LinearAlgebraicRepresentation\n",
    "Psm = Plasm"
   ]
  },
  {
   "cell_type": "markdown",
   "metadata": {},
   "source": [
    "### Bézier curve of degree $n$\n",
    "\n",
    "A Bézier curve of degree $n$ is a function\n",
    "$$\n",
    "\\p{C} : [0,1] \\rightarrow \\E^{d}\n",
    "$$\n",
    "defined as a polynomial combination of $n+1$ control points $\\p{q}_i\\in \\E^{d}$:\n",
    "\\begin{equation}\n",
    "\\p{C}(u) = \\sum_{i=0}^{n} B^n_i(u)\\ \\p{q}_i, \\qquad u\\in[0,1]\n",
    "\\label{eq:bezier}\n",
    "\\end{equation}\n",
    "where the _blending functions_ $ B^n_i : \\R \\rightarrow\\R$ are the \n",
    "Bernstein polynomials:\n",
    "$$\n",
    " B^n_i(u) = {n\\choose i} u^i (1-u)^{n-i}\n",
    "$$\n"
   ]
  },
  {
   "cell_type": "code",
   "execution_count": 2,
   "metadata": {},
   "outputs": [
    {
     "name": "stdout",
     "output_type": "stream",
     "text": [
      "map(factorial, 1:20) = [1, 2, 6, 24, 120, 720, 5040, 40320, 362880, 3628800, 39916800, 479001600, 6227020800, 87178291200, 1307674368000, 20922789888000, 355687428096000, 6402373705728000, 121645100408832000, 2432902008176640000]\n"
     ]
    },
    {
     "data": {
      "text/plain": [
       "20-element Array{Int64,1}:\n",
       "                   1\n",
       "                   2\n",
       "                   6\n",
       "                  24\n",
       "                 120\n",
       "                 720\n",
       "                5040\n",
       "               40320\n",
       "              362880\n",
       "             3628800\n",
       "            39916800\n",
       "           479001600\n",
       "          6227020800\n",
       "         87178291200\n",
       "       1307674368000\n",
       "      20922789888000\n",
       "     355687428096000\n",
       "    6402373705728000\n",
       "  121645100408832000\n",
       " 2432902008176640000"
      ]
     },
     "execution_count": 2,
     "metadata": {},
     "output_type": "execute_result"
    }
   ],
   "source": [
    "fact(n::Int) =  if n>0 prod(collect(1:10)) else 1 end\n",
    "\n",
    "#@show fact(100)\n",
    "@show map(factorial, 1:20)"
   ]
  },
  {
   "cell_type": "code",
   "execution_count": 3,
   "metadata": {},
   "outputs": [
    {
     "name": "stdout",
     "output_type": "stream",
     "text": [
      "binomial(4, 2) = 6\n"
     ]
    },
    {
     "data": {
      "text/plain": [
       "6"
      ]
     },
     "execution_count": 3,
     "metadata": {},
     "output_type": "execute_result"
    }
   ],
   "source": [
    "@show binomial(4, 2)"
   ]
  },
  {
   "cell_type": "code",
   "execution_count": 4,
   "metadata": {},
   "outputs": [
    {
     "data": {
      "text/plain": [
       "3628800"
      ]
     },
     "execution_count": 4,
     "metadata": {},
     "output_type": "execute_result"
    }
   ],
   "source": [
    "fact(10)"
   ]
  },
  {
   "cell_type": "code",
   "execution_count": 5,
   "metadata": {},
   "outputs": [
    {
     "name": "stdout",
     "output_type": "stream",
     "text": [
      "((bernstein(3))(0))(0.0) = 1.0\n",
      "((bernstein(3))(1))(0.0) = 0.0\n",
      "((bernstein(3))(2))(0.0) = 0.0\n",
      "((bernstein(3))(3))(1.0) = 1.0\n"
     ]
    },
    {
     "data": {
      "text/plain": [
       "1.0"
      ]
     },
     "execution_count": 5,
     "metadata": {},
     "output_type": "execute_result"
    }
   ],
   "source": [
    "function bernstein(n)\n",
    "    function bernstein0(k)\n",
    "        u -> binomial(n,k)*u^k*(1-u)^(n-k)\n",
    "    end\n",
    "    return bernstein0\n",
    "end\n",
    "\n",
    "@show bernstein(3)(0)(0.0)\n",
    "@show bernstein(3)(1)(0.0)\n",
    "@show bernstein(3)(2)(0.0)\n",
    "@show bernstein(3)(3)(1.0)"
   ]
  },
  {
   "cell_type": "markdown",
   "metadata": {},
   "source": [
    "## Graph of Bernstein basis of $n$ degree\n"
   ]
  },
  {
   "cell_type": "code",
   "execution_count": 6,
   "metadata": {},
   "outputs": [
    {
     "data": {
      "text/plain": [
       "([0.0 1.0 … 29.0 30.0], Array{Int64,1}[[1, 2], [2, 3], [3, 4], [4, 5], [5, 6], [6, 7], [7, 8], [8, 9], [9, 10], [10, 11]  …  [21, 22], [22, 23], [23, 24], [24, 25], [25, 26], [26, 27], [27, 28], [28, 29], [29, 30], [30, 31]])"
      ]
     },
     "execution_count": 6,
     "metadata": {},
     "output_type": "execute_result"
    }
   ],
   "source": [
    "verts,cells = Lar.cuboidGrid([30])"
   ]
  },
  {
   "cell_type": "code",
   "execution_count": 7,
   "metadata": {},
   "outputs": [
    {
     "data": {
      "text/plain": [
       "1×31 Array{Float64,2}:\n",
       " 0.0  0.0333333  0.0666667  0.1  0.133333  …  0.9  0.933333  0.966667  1.0"
      ]
     },
     "execution_count": 7,
     "metadata": {},
     "output_type": "execute_result"
    }
   ],
   "source": [
    "xs = verts/30"
   ]
  },
  {
   "cell_type": "code",
   "execution_count": 8,
   "metadata": {},
   "outputs": [
    {
     "data": {
      "text/plain": [
       "1×31 Array{Float64,2}:\n",
       " 0.0  3.7037e-5  0.000296296  0.001  …  0.729  0.813037  0.903296  1.0"
      ]
     },
     "execution_count": 8,
     "metadata": {},
     "output_type": "execute_result"
    }
   ],
   "source": [
    "ys = map(bernstein(3)(3), xs)"
   ]
  },
  {
   "cell_type": "code",
   "execution_count": 9,
   "metadata": {},
   "outputs": [
    {
     "data": {
      "text/plain": [
       "2×31 Array{Float64,2}:\n",
       " 0.0  0.0333333  0.0666667    0.1    …  0.9    0.933333  0.966667  1.0\n",
       " 0.0  3.7037e-5  0.000296296  0.001     0.729  0.813037  0.903296  1.0"
      ]
     },
     "execution_count": 9,
     "metadata": {},
     "output_type": "execute_result"
    }
   ],
   "source": [
    "sampling = [xs; ys]"
   ]
  },
  {
   "cell_type": "code",
   "execution_count": 10,
   "metadata": {},
   "outputs": [
    {
     "data": {
      "text/plain": [
       "([0.0 0.0333333 … 0.966667 1.0; 0.0 3.7037e-5 … 0.903296 1.0], Array{Int64,1}[[1, 2], [2, 3], [3, 4], [4, 5], [5, 6], [6, 7], [7, 8], [8, 9], [9, 10], [10, 11]  …  [21, 22], [22, 23], [23, 24], [24, 25], [25, 26], [26, 27], [27, 28], [28, 29], [29, 30], [30, 31]])"
      ]
     },
     "execution_count": 10,
     "metadata": {},
     "output_type": "execute_result"
    }
   ],
   "source": [
    "graph = (sampling, cells)"
   ]
  },
  {
   "cell_type": "code",
   "execution_count": 11,
   "metadata": {},
   "outputs": [
    {
     "name": "stdout",
     "output_type": "stream",
     "text": [
      "Building batches from Hpc....\n",
      "...done in 0 msec\n",
      "Optimizing the octree....\n",
      "   Number of input batches 30\n",
      "   total number vertices    44\n",
      "   Number of output batches 22\n",
      "   Batch vertex media       2\n",
      "...done in 0 msec\n",
      "Building octree from 22 batches....\n",
      "Scene number of nodes of the octree 43\n",
      "Scene max depth                     4\n",
      "Scene number of batches             22\n",
      "...done in 0 msec\n"
     ]
    },
    {
     "data": {
      "text/plain": [
       "PyObject <pyplasm.xgepy.Hpc; proxy of <Swig Object of type 'std::shared_ptr< Hpc > *' at 0x1290eed50> >"
      ]
     },
     "execution_count": 11,
     "metadata": {},
     "output_type": "execute_result"
    }
   ],
   "source": [
    "Plasm.view(graph...)"
   ]
  },
  {
   "cell_type": "code",
   "execution_count": 12,
   "metadata": {},
   "outputs": [
    {
     "data": {
      "text/plain": [
       "PyObject <pyplasm.xgepy.Hpc; proxy of <Swig Object of type 'std::shared_ptr< Hpc > *' at 0x1290eed80> >"
      ]
     },
     "execution_count": 12,
     "metadata": {},
     "output_type": "execute_result"
    }
   ],
   "source": [
    "hpc = Plasm.lar2hpc(graph...)"
   ]
  },
  {
   "cell_type": "code",
   "execution_count": 13,
   "metadata": {},
   "outputs": [
    {
     "name": "stdout",
     "output_type": "stream",
     "text": [
      "Building batches from Hpc....\n",
      "...done in 0 msec\n",
      "Optimizing the octree....\n",
      "   Number of input batches 30\n",
      "   total number vertices    44\n",
      "   Number of output batches 22\n",
      "   Batch vertex media       2\n",
      "...done in 0 msec\n",
      "Building octree from 22 batches....\n",
      "Scene number of nodes of the octree 43\n",
      "Scene max depth                     4\n",
      "Scene number of batches             22\n",
      "...done in 0 msec\n"
     ]
    },
    {
     "data": {
      "text/plain": [
       "PyObject <pyplasm.xgepy.Hpc; proxy of <Swig Object of type 'std::shared_ptr< Hpc > *' at 0x1290eed80> >"
      ]
     },
     "execution_count": 13,
     "metadata": {},
     "output_type": "execute_result"
    }
   ],
   "source": [
    "Plasm.view(hpc)"
   ]
  },
  {
   "cell_type": "code",
   "execution_count": 14,
   "metadata": {},
   "outputs": [
    {
     "data": {
      "text/plain": [
       "4-element Array{##1#3{Int64,Int64},1}:\n",
       " #1\n",
       " #1\n",
       " #1\n",
       " #1"
      ]
     },
     "execution_count": 14,
     "metadata": {},
     "output_type": "execute_result"
    }
   ],
   "source": [
    "basis = map(bernstein(3), [0,1,2,3])"
   ]
  },
  {
   "cell_type": "code",
   "execution_count": 15,
   "metadata": {},
   "outputs": [
    {
     "name": "stdout",
     "output_type": "stream",
     "text": [
      "Building batches from Hpc....\n",
      "...done in 0 msec\n",
      "Optimizing the octree....\n",
      "   Number of input batches 120\n",
      "   total number vertices    146\n",
      "   Number of output batches 73\n",
      "   Batch vertex media       2\n",
      "...done in 0 msec\n",
      "Building octree from 73 batches....\n",
      "Scene number of nodes of the octree 121\n",
      "Scene max depth                     4\n",
      "Scene number of batches             73\n",
      "...done in 0 msec\n"
     ]
    },
    {
     "data": {
      "text/plain": [
       "PyObject <pyplasm.xgepy.Hpc; proxy of <Swig Object of type 'std::shared_ptr< Hpc > *' at 0x129111ab0> >"
      ]
     },
     "execution_count": 15,
     "metadata": {},
     "output_type": "execute_result"
    }
   ],
   "source": [
    "    ys0 = map(bernstein(3)(0), xs)\n",
    "    ys1 = map(bernstein(3)(1), xs)\n",
    "    ys2 = map(bernstein(3)(2), xs)\n",
    "    ys3 = map(bernstein(3)(3), xs)\n",
    "    hpc0 = Plasm.lar2hpc( [xs; ys0], cells )\n",
    "    hpc1 = Plasm.lar2hpc( [xs; ys1], cells )\n",
    "    hpc2 = Plasm.lar2hpc( [xs; ys2], cells )\n",
    "    hpc3 = Plasm.lar2hpc( [xs; ys3], cells )\n",
    "    hpc = [hpc0,hpc1,hpc2,hpc3]\n",
    "    #Plasm.view(hpc)\n",
    "\n",
    "using PyCall\n",
    "@pyimport pyplasm as p\n",
    "p.STRUCT\n",
    "\n",
    "    Plasm.view(p.STRUCT(hpc))"
   ]
  },
  {
   "cell_type": "markdown",
   "metadata": {},
   "source": [
    "## Generation of a Bézier curve"
   ]
  },
  {
   "cell_type": "markdown",
   "metadata": {},
   "source": [
    "DEF Bezier (ControlPoints::IsSeq) = (AA:InnerProd ∼ DISTL): \n",
    "    < BernsteinBasis:degree, coordinateSeqs >\n",
    "WHERE\n",
    "    degree = LEN:ControlPoints - 1,\n",
    "    coordinateSeqs = ((AA ∼ AA):K ∼ TRANS):ControlPoints\n",
    "END;\n"
   ]
  },
  {
   "cell_type": "code",
   "execution_count": 221,
   "metadata": {},
   "outputs": [
    {
     "data": {
      "text/plain": [
       "1×51 Array{Float64,2}:\n",
       " 0.0  0.02  0.04  0.06  0.08  0.1  0.12  …  0.9  0.92  0.94  0.96  0.98  1.0"
      ]
     },
     "execution_count": 221,
     "metadata": {},
     "output_type": "execute_result"
    }
   ],
   "source": [
    "function bezier(controlPoints)\n",
    "    degree = length(controlPoints) - 1\n",
    "    domain = a\n",
    "end\n",
    "\n",
    "cpts = [0 0 1 1; 0 1 1 0; 0 0 0 0]\n",
    "[cpts[k,:]* for k=1:size(cpts,1)]\n",
    "\n",
    "verts,cells = Lar.cuboidGrid([50])\n",
    "verts = verts/50\n",
    "domain = verts,cells\n"
   ]
  },
  {
   "cell_type": "markdown",
   "metadata": {},
   "source": [
    "## Convert the `bezier.c` function by Rogers\n",
    "\n",
    "[*NURBS book*](http://www.nar-associates.com/nurbs/programs/tknot.c)\n",
    "\n",
    "[*on line C compiler*](https://www.onlinegdb.com/online_c_compiler)"
   ]
  },
  {
   "cell_type": "markdown",
   "metadata": {},
   "source": [
    "bezier.c \ttbezier.c \tCalculates a Bezier curve."
   ]
  },
  {
   "cell_type": "markdown",
   "metadata": {},
   "source": [
    "/*  Subroutine to generate B-spline basis functions for open knot vectors\n",
    "\n",
    "\tC code for An Introduction to NURBS\n",
    "\tby David F. Rogers. Copyright (C) 2000 David F. Rogers,\n",
    "\tAll rights reserved.\n",
    "\t\n",
    "\tName: basis.c\n",
    "\tLanguage: C\n",
    "\tSubroutines called: none\n",
    "\tBook reference: p. 279\n",
    "\n",
    "    c        = order of the B-spline basis function\n",
    "    d        = first term of the basis function recursion relation\n",
    "    e        = second term of the basis function recursion relation\n",
    "    npts     = number of defining polygon vertices\n",
    "    n[]      = array containing the basis functions\n",
    "               n[1] contains the basis function associated with B1 etc.\n",
    "    nplusc   = constant -- npts + c -- maximum number of knot values\n",
    "    t        = parameter value\n",
    "    temp[]   = temporary array\n",
    "    x[]      = knot vector\n",
    "*/\t\n",
    "\n",
    "#include \t<stdio.h>\n",
    "\n",
    "basis(c,t,npts,x,n)\n",
    "\n",
    "int c,npts;\n",
    "int x[];\n",
    "float t;\n",
    "float n[];\n",
    "\n",
    "{\n",
    "\tint nplusc;\n",
    "\tint i,k;\n",
    "\tfloat d,e;\n",
    "\tfloat temp[36];\n",
    "\n",
    "\tnplusc = npts + c;\n",
    "\n",
    "/*\t\tprintf(\"knot vector is \\n\");\n",
    "\t\tfor (i = 1; i <= nplusc; i++){\n",
    "\t\t\tprintf(\" %d %d \\n\", i,x[i]);\n",
    "\t\t}\n",
    "\t\tprintf(\"t is %f \\n\", t);\n",
    "*/\n",
    "\n",
    "/* calculate the first order basis functions n[i][1]\t*/\n",
    "\n",
    "\tfor (i = 1; i<= nplusc-1; i++){\n",
    "    \tif (( t >= x[i]) && (t < x[i+1]))\n",
    "\t\t\ttemp[i] = 1;\n",
    "\t    else\n",
    "\t\t\ttemp[i] = 0;\n",
    "\t}\n",
    "\n",
    "/* calculate the higher order basis functions */\n",
    "\n",
    "\tfor (k = 2; k <= c; k++){\n",
    "    \tfor (i = 1; i <= nplusc-k; i++){\n",
    "        \tif (temp[i] != 0)    /* if the lower order basis function is zero skip the calculation */\n",
    "           \t\td = ((t-x[i])*temp[i])/(x[i+k-1]-x[i]);\n",
    "\t        else\n",
    "\t\t\t\td = 0;\n",
    "\n",
    "    \t    if (temp[i+1] != 0)     /* if the lower order basis function is zero skip the calculation */\n",
    "        \t\te = ((x[i+k]-t)*temp[i+1])/(x[i+k]-x[i+1]);\n",
    "\t        else\n",
    "    \t\t\te = 0;\n",
    "\n",
    "    \t    temp[i] = d + e;\n",
    "\t\t}\n",
    "\t}\n",
    "\n",
    "\tif (t == (float)x[nplusc]){\t\t/*    pick up last point\t*/\n",
    " \t\ttemp[npts] = 1;\n",
    "\t}\n",
    "\n",
    "/* put in n array\t*/\n",
    "\n",
    "\tfor (i = 1; i <= npts; i++) {\n",
    "    \tn[i] = temp[i];\n",
    "\t}\n",
    "}"
   ]
  },
  {
   "cell_type": "code",
   "execution_count": 21,
   "metadata": {},
   "outputs": [
    {
     "data": {
      "text/plain": [
       "bezier (generic function with 1 method)"
      ]
     },
     "execution_count": 21,
     "metadata": {},
     "output_type": "execute_result"
    }
   ],
   "source": [
    "function bezier(npts,b,cpts,p)\n",
    "\tNi(n,i) = factorial(n)/(factorial(i)*factorial(n-i))\n",
    "\tBasis(n,i,t) = Ni(n,i)*t^i*((1-t)^(n-i))\n",
    "\tj = Array{Number}(20)\n",
    "\ttemp = Array{Number}(20); temp1 = Array{Number}(20); temp2 = Array{Number}(20)\n",
    "\ticount = 0\n",
    "\tj = zeros(npts)\n",
    "\tfor t=0:1/(cpts-1):1\n",
    "\t   icount += 1\n",
    "\t   # determine the Bernstein basis function\n",
    "\t   for i=1:npts\n",
    "\t\t   j[i] = Basis(npts-1,i-1,t)\n",
    "\t\t   @show i, j[i]\n",
    "\t   end\n",
    "\t   # determine a point on the curve\n",
    "\t   temp = b*j\n",
    "\t   # place in array\n",
    "\t   for i=1:3\n",
    "\t\t   p[icount,i] = temp[i]\n",
    "\t   end\n",
    "\tend\n",
    "end"
   ]
  },
  {
   "cell_type": "code",
   "execution_count": 22,
   "metadata": {},
   "outputs": [],
   "source": [
    "bb = Array{Float64,2}(10,3) \t# allows for up to 10  control vertices\n",
    "pp = Array{Float64,2}(100,3)\t# allows for up to 100 points on curve\n",
    "\n",
    "npts = 4;\n",
    "cpts = 21;   # eleven points on curve \n",
    "bb = zeros(3,npts)\n",
    "cc = zeros(3,cpts)\n",
    "\n",
    "#=\n",
    "    Define the control polygon, Ex. 2.1 in the z=1 plane because\n",
    "    this is three dimensional routine. x=b[1], y=b[2], z=b[3], etc.\n",
    "=#    \n",
    "    bb[1]=1;\n",
    "    bb[2]=1;\n",
    "    bb[3]=1;\n",
    "    bb[4]=2;\n",
    "    bb[5]=3;\n",
    "    bb[6]=1;\n",
    "    bb[7]=4;\n",
    "    bb[8]=3;\n",
    "    bb[9]=1;\n",
    "    bb[10]=3;\n",
    "    bb[11]=1;\n",
    "    bb[12]=1;\n",
    "#reshape(bb, (3,4))"
   ]
  },
  {
   "cell_type": "code",
   "execution_count": 23,
   "metadata": {},
   "outputs": [
    {
     "name": "stdout",
     "output_type": "stream",
     "text": [
      "(i, j[i]) = (1, 1.0)\n",
      "(i, j[i]) = (2, 0.0)\n",
      "(i, j[i]) = (3, 0.0)\n",
      "(i, j[i]) = (4, 0.0)\n",
      "(i, j[i]) = (1, 0.8573749999999999)\n",
      "(i, j[i]) = (2, 0.13537500000000002)\n",
      "(i, j[i]) = (3, 0.007125000000000001)\n",
      "(i, j[i]) = (4, 0.00012500000000000003)\n",
      "(i, j[i]) = (1, 0.7290000000000001)\n",
      "(i, j[i]) = (2, 0.24300000000000005)\n",
      "(i, j[i]) = (3, 0.027000000000000007)\n",
      "(i, j[i]) = (4, 0.0010000000000000002)\n",
      "(i, j[i]) = (1, 0.6141249999999999)\n",
      "(i, j[i]) = (2, 0.32512499999999994)\n",
      "(i, j[i]) = (3, 0.057375)\n",
      "(i, j[i]) = (4, 0.0033749999999999995)\n",
      "(i, j[i]) = (1, 0.5120000000000001)\n",
      "(i, j[i]) = (2, 0.3840000000000001)\n",
      "(i, j[i]) = (3, 0.09600000000000003)\n",
      "(i, j[i]) = (4, 0.008000000000000002)\n",
      "(i, j[i]) = (1, 0.421875)\n",
      "(i, j[i]) = (2, 0.421875)\n",
      "(i, j[i]) = (3, 0.140625)\n",
      "(i, j[i]) = (4, 0.015625)\n",
      "(i, j[i]) = (1, 0.3429999999999999)\n",
      "(i, j[i]) = (2, 0.4409999999999999)\n",
      "(i, j[i]) = (3, 0.189)\n",
      "(i, j[i]) = (4, 0.026999999999999996)\n",
      "(i, j[i]) = (1, 0.274625)\n",
      "(i, j[i]) = (2, 0.443625)\n",
      "(i, j[i]) = (3, 0.23887499999999998)\n",
      "(i, j[i]) = (4, 0.04287499999999999)\n",
      "(i, j[i]) = (1, 0.21599999999999997)\n",
      "(i, j[i]) = (2, 0.43200000000000005)\n",
      "(i, j[i]) = (3, 0.28800000000000003)\n",
      "(i, j[i]) = (4, 0.06400000000000002)\n",
      "(i, j[i]) = (1, 0.16637500000000005)\n",
      "(i, j[i]) = (2, 0.4083750000000001)\n",
      "(i, j[i]) = (3, 0.33412500000000006)\n",
      "(i, j[i]) = (4, 0.09112500000000001)\n",
      "(i, j[i]) = (1, 0.125)\n",
      "(i, j[i]) = (2, 0.375)\n",
      "(i, j[i]) = (3, 0.375)\n",
      "(i, j[i]) = (4, 0.125)\n",
      "(i, j[i]) = (1, 0.09112499999999997)\n",
      "(i, j[i]) = (2, 0.33412499999999995)\n",
      "(i, j[i]) = (3, 0.40837500000000004)\n",
      "(i, j[i]) = (4, 0.16637500000000005)\n",
      "(i, j[i]) = (1, 0.06400000000000002)\n",
      "(i, j[i]) = (2, 0.28800000000000003)\n",
      "(i, j[i]) = (3, 0.43200000000000005)\n",
      "(i, j[i]) = (4, 0.21599999999999997)\n",
      "(i, j[i]) = (1, 0.04287499999999999)\n",
      "(i, j[i]) = (2, 0.238875)\n",
      "(i, j[i]) = (3, 0.443625)\n",
      "(i, j[i]) = (4, 0.274625)\n",
      "(i, j[i]) = (1, 0.027000000000000014)\n",
      "(i, j[i]) = (2, 0.18900000000000003)\n",
      "(i, j[i]) = (3, 0.441)\n",
      "(i, j[i]) = (4, 0.3429999999999999)\n",
      "(i, j[i]) = (1, 0.015625)\n",
      "(i, j[i]) = (2, 0.140625)\n",
      "(i, j[i]) = (3, 0.421875)\n",
      "(i, j[i]) = (4, 0.421875)\n",
      "(i, j[i]) = (1, 0.007999999999999995)\n",
      "(i, j[i]) = (2, 0.09599999999999996)\n",
      "(i, j[i]) = (3, 0.384)\n",
      "(i, j[i]) = (4, 0.5120000000000001)\n",
      "(i, j[i]) = (1, 0.0033750000000000017)\n",
      "(i, j[i]) = (2, 0.05737500000000001)\n",
      "(i, j[i]) = (3, 0.325125)\n",
      "(i, j[i]) = (4, 0.6141249999999999)\n",
      "(i, j[i]) = (1, 0.0009999999999999994)\n",
      "(i, j[i]) = (2, 0.02699999999999999)\n",
      "(i, j[i]) = (3, 0.24299999999999997)\n",
      "(i, j[i]) = (4, 0.7290000000000001)\n",
      "(i, j[i]) = (1, 0.00012500000000000033)\n",
      "(i, j[i]) = (2, 0.0071250000000000115)\n",
      "(i, j[i]) = (3, 0.13537500000000013)\n",
      "(i, j[i]) = (4, 0.8573749999999999)\n",
      "(i, j[i]) = (1, 0.0)\n",
      "(i, j[i]) = (2, 0.0)\n",
      "(i, j[i]) = (3, 0.0)\n",
      "(i, j[i]) = (4, 1.0)\n",
      "Building batches from Hpc....\n",
      "...done in 0 msec\n",
      "Optimizing the octree....\n",
      "   Number of input batches 20\n",
      "   total number vertices    38\n",
      "   Number of output batches 19\n",
      "   Batch vertex media       2\n",
      "...done in 0 msec\n",
      "Building octree from 19 batches....\n",
      "Scene number of nodes of the octree 41\n",
      "Scene max depth                     4\n",
      "Scene number of batches             19\n",
      "...done in 0 msec\n"
     ]
    }
   ],
   "source": [
    "bezier(npts,bb,cpts,pp);\n",
    "verts = pp[1:cpts,:]';\n",
    "_,cells = Lar.cuboidGrid([20]);\n",
    "Plasm.view(verts,cells);\n"
   ]
  },
  {
   "cell_type": "code",
   "execution_count": null,
   "metadata": {},
   "outputs": [],
   "source": []
  },
  {
   "cell_type": "code",
   "execution_count": null,
   "metadata": {},
   "outputs": [],
   "source": []
  },
  {
   "cell_type": "markdown",
   "metadata": {},
   "source": [
    "![*Bézier curve*](bezier.png \"examples\"){id .class width=50%}\n"
   ]
  },
  {
   "cell_type": "markdown",
   "metadata": {},
   "source": [
    "<img src=\"attachment:bezier.png\" width=\"400\">"
   ]
  },
  {
   "cell_type": "markdown",
   "metadata": {},
   "source": [
    "<img src=\"attachment:bezier.png\" width=\"400\">"
   ]
  },
  {
   "cell_type": "markdown",
   "metadata": {},
   "source": [
    "## Transfinite multidimensional pyplasm implementation"
   ]
  },
  {
   "cell_type": "code",
   "execution_count": 1,
   "metadata": {},
   "outputs": [
    {
     "name": "stdout",
     "output_type": "stream",
     "text": [
      "Creating shared GLCanvas...\n",
      "shared GLCanvas created\n",
      "Building batches from Hpc....\n",
      "...done in 0 msec\n",
      "Optimizing the octree....\n",
      "   Number of input batches 32\n",
      "   total number vertices    40\n",
      "   Number of output batches 20\n",
      "   Batch vertex media       2\n",
      "...done in 0 msec\n",
      "Building octree from 20 batches....\n",
      "Scene number of nodes of the octree 40\n",
      "Scene max depth                     4\n",
      "Scene number of batches             20\n",
      "...done in 0 msec\n"
     ]
    },
    {
     "data": {
      "text/plain": [
       "PyObject <pyplasm.xgepy.Hpc; proxy of <Swig Object of type 'std::shared_ptr< Hpc > *' at 0x1346cbfc0> >"
      ]
     },
     "execution_count": 1,
     "metadata": {},
     "output_type": "execute_result"
    }
   ],
   "source": [
    "using PyCall\n",
    "@pyimport pyplasm as p\n",
    "\n",
    "p.VIEW(p.MAP(p.BEZIER(p.S1)([[-0,0],[1,0],[1,1],[2,1],[3,1]]))(p.INTERVALS(1)(32)))"
   ]
  },
  {
   "cell_type": "raw",
   "metadata": {},
   "source": [
    "    def BEZIER(U):\n",
    "        def BEZIER0 (controldata_fn):\n",
    "            N=len(controldata_fn)-1\n",
    "\n",
    "            def map_fn(point):\n",
    "                t=U(point)\n",
    "                controldata=[fun(point) if callable(fun) else fun for fun in controldata_fn]\n",
    "                ret=[0.0 for i in range(len(controldata[0]))]\t\t\n",
    "                for I in range(N+1):\n",
    "                    weight=CHOOSE([N,I])*math.pow(1-t,N-I)*math.pow(t,I)\n",
    "                    for K in range(len(ret)):  ret[K]+=weight*(controldata[I][K])\n",
    "                return ret\n",
    "            return map_fn\n",
    "        return BEZIER0"
   ]
  },
  {
   "cell_type": "code",
   "execution_count": 7,
   "metadata": {},
   "outputs": [
    {
     "name": "stdout",
     "output_type": "stream",
     "text": [
      "Building batches from Hpc....\n",
      "...done in 13 msec\n",
      "Optimizing the octree....\n",
      "   Number of input batches 1024\n",
      "   total number vertices    2184\n",
      "   Number of output batches 182\n",
      "   Batch vertex media       12\n",
      "...done in 3 msec\n",
      "Building octree from 182 batches....\n",
      "Scene number of nodes of the octree 273\n",
      "Scene max depth                     4\n",
      "Scene number of batches             182\n",
      "...done in 0 msec\n"
     ]
    },
    {
     "data": {
      "text/plain": [
       "PyObject <pyplasm.xgepy.Hpc; proxy of <Swig Object of type 'std::shared_ptr< Hpc > *' at 0x12a25b7e0> >"
      ]
     },
     "execution_count": 7,
     "metadata": {},
     "output_type": "execute_result"
    }
   ],
   "source": [
    "C0 = p.BEZIER(p.S1)([[0,0,0],[10,0,0]])\n",
    "C1 = p.BEZIER(p.S1)([[0,2,0],[8,3,0],[9,2,0]])\n",
    "C2 = p.BEZIER(p.S1)([[0,4,1],[7,5,-1],[8,5,1],[12,4,0]])\n",
    "C3 = p.BEZIER(p.S1)([[0,6,0],[9,6,3],[10,6,-1]])\n",
    "\n",
    "domain = p.EMBED(1)(p.PROD([ p.INTERVALS(1)(32),  p.INTERVALS(1)(32) ]))\n",
    "out = p.MAP(p.BEZIER(p.S2)([C0,C1,C2,C3]))(  domain  )\n",
    "p.VIEW(out)"
   ]
  }
 ],
 "metadata": {
  "kernelspec": {
   "display_name": "Julia 0.6.4",
   "language": "julia",
   "name": "julia-0.6"
  },
  "language_info": {
   "file_extension": ".jl",
   "mimetype": "application/julia",
   "name": "julia",
   "version": "0.6.4"
  }
 },
 "nbformat": 4,
 "nbformat_minor": 2
}
