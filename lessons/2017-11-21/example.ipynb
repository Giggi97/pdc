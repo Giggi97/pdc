{
 "cells": [
  {
   "cell_type": "code",
   "execution_count": 4,
   "metadata": {},
   "outputs": [
    {
     "name": "stderr",
     "output_type": "stream",
     "text": [
      "WARNING: Method definition grid_0(Any) in module Main at In[1]:2 overwritten at In[4]:2.\n"
     ]
    },
    {
     "data": {
      "text/plain": [
       "grid_0 (generic function with 1 method)"
      ]
     },
     "execution_count": 4,
     "metadata": {},
     "output_type": "execute_result"
    }
   ],
   "source": [
    "function grid_0(n)\n",
    "    return hcat([[i] for i=0:n]...)\n",
    "end"
   ]
  },
  {
   "cell_type": "code",
   "execution_count": 2,
   "metadata": {},
   "outputs": [],
   "source": [
    "using Base.Test"
   ]
  },
  {
   "cell_type": "code",
   "execution_count": 3,
   "metadata": {},
   "outputs": [
    {
     "name": "stdout",
     "output_type": "stream",
     "text": [
      "\u001b[1m\u001b[37mTest Summary: | \u001b[0m\u001b[1m\u001b[32mPass  \u001b[0m\u001b[1m\u001b[34mTotal\u001b[0m\n",
      "  grid_0      | \u001b[1m\u001b[32m   3  \u001b[0m\u001b[1m\u001b[34m    3\u001b[0m\n"
     ]
    },
    {
     "data": {
      "text/plain": [
       "Base.Test.DefaultTestSet(\"grid_0\",Any[\u001b[1m\u001b[32mTest Passed\n",
       "\u001b[0m  Expression: grid_0(1) == [0 1]\n",
       "   Evaluated: [0 1] == [0 1],\u001b[1m\u001b[32mTest Passed\n",
       "\u001b[0m  Expression: grid_0(2) == [0 1 2]\n",
       "   Evaluated: [0 1 2] == [0 1 2],\u001b[1m\u001b[32mTest Passed\n",
       "\u001b[0m  Expression: grid_0(3) == [0 1 2 3]\n",
       "   Evaluated: [0 1 2 3] == [0 1 2 3]],false)"
      ]
     },
     "execution_count": 3,
     "metadata": {},
     "output_type": "execute_result"
    }
   ],
   "source": [
    "@testset \"grid_0\" begin\n",
    "  @test grid_0(1) == [0  1]\n",
    "  @test grid_0(2) == [0  1  2]\n",
    "  @test grid_0(3) == [0  1  2  3]\n",
    "end"
   ]
  },
  {
   "cell_type": "code",
   "execution_count": 5,
   "metadata": {},
   "outputs": [
    {
     "data": {
      "text/plain": [
       "grid_1 (generic function with 1 method)"
      ]
     },
     "execution_count": 5,
     "metadata": {},
     "output_type": "execute_result"
    }
   ],
   "source": [
    "function grid_1(n)\n",
    "    return hcat([[i,i+1] for i in range(0,n)]...)\n",
    "end"
   ]
  },
  {
   "cell_type": "code",
   "execution_count": 6,
   "metadata": {},
   "outputs": [
    {
     "name": "stdout",
     "output_type": "stream",
     "text": [
      "\u001b[1m\u001b[37mTest Summary: | \u001b[0m\u001b[1m\u001b[32mPass  \u001b[0m\u001b[1m\u001b[34mTotal\u001b[0m\n",
      "  grid_1      | \u001b[1m\u001b[32m   3  \u001b[0m\u001b[1m\u001b[34m    3\u001b[0m\n"
     ]
    },
    {
     "data": {
      "text/plain": [
       "Base.Test.DefaultTestSet(\"grid_1\",Any[\u001b[1m\u001b[32mTest Passed\n",
       "\u001b[0m  Expression: repr(grid_1(1)) == \"[0; 1]\"\n",
       "   Evaluated: \"[0; 1]\" == \"[0; 1]\",\u001b[1m\u001b[32mTest Passed\n",
       "\u001b[0m  Expression: grid_1(2) == [0 1;1 2]\n",
       "   Evaluated: [0 1; 1 2] == [0 1; 1 2],\u001b[1m\u001b[32mTest Passed\n",
       "\u001b[0m  Expression: grid_1(3) == [0 1 2;1 2 3]\n",
       "   Evaluated: [0 1 2; 1 2 3] == [0 1 2; 1 2 3]],false)"
      ]
     },
     "execution_count": 6,
     "metadata": {},
     "output_type": "execute_result"
    }
   ],
   "source": [
    "@testset \"grid_1\" begin\n",
    "  @test repr(grid_1(1)) == \"[0; 1]\"\n",
    "  @test grid_1(2) == [0 1; 1 2]\n",
    "  @test grid_1(3) == [0 1 2; 1 2 3]\n",
    "end"
   ]
  },
  {
   "cell_type": "code",
   "execution_count": 7,
   "metadata": {},
   "outputs": [
    {
     "data": {
      "text/plain": [
       "larGrid (generic function with 1 method)"
      ]
     },
     "execution_count": 7,
     "metadata": {},
     "output_type": "execute_result"
    }
   ],
   "source": [
    "function larGrid(n)\n",
    "    function larGrid1(d)\n",
    "        if d==0 \n",
    "        \treturn grid_0(n)\n",
    "        elseif d==1 \n",
    "        \treturn grid_1(n) \n",
    "        end\n",
    "    end\n",
    "    return larGrid1\n",
    "end"
   ]
  },
  {
   "cell_type": "code",
   "execution_count": 8,
   "metadata": {},
   "outputs": [
    {
     "name": "stdout",
     "output_type": "stream",
     "text": [
      "\u001b[1m\u001b[37mTest Summary: | \u001b[0m\u001b[1m\u001b[32mPass  \u001b[0m\u001b[1m\u001b[34mTotal\u001b[0m\n",
      "  larGrid     | \u001b[1m\u001b[32m   6  \u001b[0m\u001b[1m\u001b[34m    6\u001b[0m\n"
     ]
    },
    {
     "data": {
      "text/plain": [
       "Base.Test.DefaultTestSet(\"larGrid\",Any[\u001b[1m\u001b[32mTest Passed\n",
       "\u001b[0m  Expression: repr((larGrid(1))(0)) == \"[0 1]\"\n",
       "   Evaluated: \"[0 1]\" == \"[0 1]\",\u001b[1m\u001b[32mTest Passed\n",
       "\u001b[0m  Expression: repr((larGrid(1))(1)) == \"[0; 1]\"\n",
       "   Evaluated: \"[0; 1]\" == \"[0; 1]\",\u001b[1m\u001b[32mTest Passed\n",
       "\u001b[0m  Expression: (larGrid(2))(0) == [0 1 2]\n",
       "   Evaluated: [0 1 2] == [0 1 2],\u001b[1m\u001b[32mTest Passed\n",
       "\u001b[0m  Expression: (larGrid(2))(1) == [0 1;1 2]\n",
       "   Evaluated: [0 1; 1 2] == [0 1; 1 2],\u001b[1m\u001b[32mTest Passed\n",
       "\u001b[0m  Expression: (larGrid(3))(0) == [0 1 2 3]\n",
       "   Evaluated: [0 1 2 3] == [0 1 2 3],\u001b[1m\u001b[32mTest Passed\n",
       "\u001b[0m  Expression: (larGrid(3))(1) == [0 1 2;1 2 3]\n",
       "   Evaluated: [0 1 2; 1 2 3] == [0 1 2; 1 2 3]],false)"
      ]
     },
     "execution_count": 8,
     "metadata": {},
     "output_type": "execute_result"
    }
   ],
   "source": [
    "@testset \"larGrid\" begin\n",
    "  @test repr(larGrid(1)(0)) == \"[0 1]\"\n",
    "  @test repr(larGrid(1)(1)) == \"[0; 1]\"\n",
    "  @test larGrid(2)(0) == [0  1  2]\n",
    "  @test larGrid(2)(1) == [0 1; 1 2]\n",
    "  @test larGrid(3)(0) == [0  1  2  3]\n",
    "  @test larGrid(3)(1) == [0  1  2; 1  2  3]\n",
    "end"
   ]
  },
  {
   "cell_type": "code",
   "execution_count": null,
   "metadata": {},
   "outputs": [],
   "source": [
    "using IterTools\n",
    "function cart(args)\n",
    "\treturn sort(collect(IterTools.product(args...)))\n",
    "end"
   ]
  },
  {
   "cell_type": "code",
   "execution_count": null,
   "metadata": {},
   "outputs": [],
   "source": [
    "cart([\"super\"])"
   ]
  },
  {
   "cell_type": "code",
   "execution_count": 25,
   "metadata": {},
   "outputs": [
    {
     "data": {
      "text/plain": [
       "index2addr (generic function with 2 methods)"
      ]
     },
     "execution_count": 25,
     "metadata": {},
     "output_type": "execute_result"
    }
   ],
   "source": [
    "function index2addr(shape::Array{Int64,1})\n",
    "  index2addr(hcat(shape...))\n",
    "end\n",
    "\n",
    "function index2addr(shape::Array{Int64,2})\n",
    "    n = length(shape)\n",
    "    theShape = append!(shape[2:end],1)\n",
    "    weights = [prod(theShape[k:end]) for k in range(1,n)]\n",
    "    function index2addr0(multiIndex)\n",
    "        return dot(collect(multiIndex), weights) + 1\n",
    "    end\n",
    "    return index2addr0\n",
    "end"
   ]
  },
  {
   "cell_type": "code",
   "execution_count": 9,
   "metadata": {},
   "outputs": [
    {
     "name": "stdout",
     "output_type": "stream",
     "text": [
      "\u001b[1m\u001b[37mshape 1D: \u001b[0m\u001b[1m\u001b[31mError During Test\n",
      "\u001b[0m  Test threw an exception of type UndefVarError\n",
      "  Expression: (index2addr([10]))([0]) == 1\n",
      "  UndefVarError: index2addr not defined\n",
      "   in macro expansion; at ./In[9]:3 [inlined]\n",
      "   in macro expansion; at ./test.jl:672 [inlined]\n",
      "   in macro expansion; at ./In[9]:2 [inlined]\n",
      "   in macro expansion; at ./test.jl:672 [inlined]\n",
      "   in anonymous at ./<missing>:?\n",
      "   in include_string(::String, ::String) at ./loading.jl:441\n",
      "   in include_string(::String, ::String) at /Applications/Julia-0.5.app/Contents/Resources/julia/lib/julia/sys.dylib:?\n",
      "   in include_string(::Module, ::String, ::String) at /Users/paoluzzi/.julia/v0.5/Compat/src/Compat.jl:478\n",
      "   in execute_request(::ZMQ.Socket, ::IJulia.Msg) at /Users/paoluzzi/.julia/v0.5/IJulia/src/execute_request.jl:154\n",
      "   in invokelatest(::Function, ::ZMQ.Socket, ::Vararg{Any,N}) at /Users/paoluzzi/.julia/v0.5/Compat/src/Compat.jl:489\n",
      "   in eventloop(::ZMQ.Socket) at /Users/paoluzzi/.julia/v0.5/IJulia/src/eventloop.jl:8\n",
      "   in (::IJulia.##18#24)() at ./task.jl:360\n",
      "\u001b[1m\u001b[37mshape 1D: \u001b[0m\u001b[1m\u001b[31mError During Test\n",
      "\u001b[0m  Test threw an exception of type UndefVarError\n",
      "  Expression: (index2addr([10]))([9]) == 10\n",
      "  UndefVarError: index2addr not defined\n",
      "   in macro expansion; at ./In[9]:4 [inlined]\n",
      "   in macro expansion; at ./test.jl:672 [inlined]\n",
      "   in macro expansion; at ./In[9]:2 [inlined]\n",
      "   in macro expansion; at ./test.jl:672 [inlined]\n",
      "   in anonymous at ./<missing>:?\n",
      "   in include_string(::String, ::String) at ./loading.jl:441\n",
      "   in include_string(::String, ::String) at /Applications/Julia-0.5.app/Contents/Resources/julia/lib/julia/sys.dylib:?\n",
      "   in include_string(::Module, ::String, ::String) at /Users/paoluzzi/.julia/v0.5/Compat/src/Compat.jl:478\n",
      "   in execute_request(::ZMQ.Socket, ::IJulia.Msg) at /Users/paoluzzi/.julia/v0.5/IJulia/src/execute_request.jl:154\n",
      "   in invokelatest(::Function, ::ZMQ.Socket, ::Vararg{Any,N}) at /Users/paoluzzi/.julia/v0.5/Compat/src/Compat.jl:489\n",
      "   in eventloop(::ZMQ.Socket) at /Users/paoluzzi/.julia/v0.5/IJulia/src/eventloop.jl:8\n",
      "   in (::IJulia.##18#24)() at ./task.jl:360\n",
      "\u001b[1m\u001b[37mshape 1D: \u001b[0m\u001b[1m\u001b[31mError During Test\n",
      "\u001b[0m  Test threw an exception of type UndefVarError\n",
      "  Expression: [(index2addr([10]))([index]) for index = collect(0:9)] == collect(1:10)\n",
      "  UndefVarError: index2addr not defined\n",
      "   in collect(::Base.Generator{Array{Int64,1},##8#9}) at ./array.jl:307\n",
      "   in macro expansion; at ./In[9]:5 [inlined]\n",
      "   in macro expansion; at ./test.jl:672 [inlined]\n",
      "   in macro expansion; at ./In[9]:2 [inlined]\n",
      "   in macro expansion; at ./test.jl:672 [inlined]\n",
      "   in anonymous at ./<missing>:?\n",
      "   in include_string(::String, ::String) at ./loading.jl:441\n",
      "   in include_string(::String, ::String) at /Applications/Julia-0.5.app/Contents/Resources/julia/lib/julia/sys.dylib:?\n",
      "   in include_string(::Module, ::String, ::String) at /Users/paoluzzi/.julia/v0.5/Compat/src/Compat.jl:478\n",
      "   in execute_request(::ZMQ.Socket, ::IJulia.Msg) at /Users/paoluzzi/.julia/v0.5/IJulia/src/execute_request.jl:154\n",
      "   in invokelatest(::Function, ::ZMQ.Socket, ::Vararg{Any,N}) at /Users/paoluzzi/.julia/v0.5/Compat/src/Compat.jl:489\n",
      "   in eventloop(::ZMQ.Socket) at /Users/paoluzzi/.julia/v0.5/IJulia/src/eventloop.jl:8\n",
      "   in (::IJulia.##18#24)() at ./task.jl:360\n",
      "\u001b[1m\u001b[37mshape 2d: \u001b[0m\u001b[1m\u001b[31mError During Test\n",
      "\u001b[0m  Got an exception of type UndefVarError outside of a @test\n",
      "  UndefVarError: cart not defined\n",
      "   in macro expansion; at ./In[9]:9 [inlined]\n",
      "   in macro expansion; at ./test.jl:672 [inlined]\n",
      "   in macro expansion; at ./In[9]:8 [inlined]\n",
      "   in macro expansion; at ./test.jl:672 [inlined]\n",
      "   in anonymous at ./<missing>:?\n",
      "   in include_string(::String, ::String) at ./loading.jl:441\n",
      "   in include_string(::String, ::String) at /Applications/Julia-0.5.app/Contents/Resources/julia/lib/julia/sys.dylib:?\n",
      "   in include_string(::Module, ::String, ::String) at /Users/paoluzzi/.julia/v0.5/Compat/src/Compat.jl:478\n",
      "   in execute_request(::ZMQ.Socket, ::IJulia.Msg) at /Users/paoluzzi/.julia/v0.5/IJulia/src/execute_request.jl:154\n",
      "   in invokelatest(::Function, ::ZMQ.Socket, ::Vararg{Any,N}) at /Users/paoluzzi/.julia/v0.5/Compat/src/Compat.jl:489\n",
      "   in eventloop(::ZMQ.Socket) at /Users/paoluzzi/.julia/v0.5/IJulia/src/eventloop.jl:8\n",
      "   in (::IJulia.##18#24)() at ./task.jl:360\n",
      "\u001b[1m\u001b[37mshape 3d: \u001b[0m\u001b[1m\u001b[31mError During Test\n",
      "\u001b[0m  Got an exception of type UndefVarError outside of a @test\n",
      "  UndefVarError: cart not defined\n",
      "   in macro expansion; at ./In[9]:20 [inlined]\n",
      "   in macro expansion; at ./test.jl:672 [inlined]\n",
      "   in macro expansion; at ./In[9]:19 [inlined]\n",
      "   in macro expansion; at ./test.jl:672 [inlined]\n",
      "   in anonymous at ./<missing>:?\n",
      "   in include_string(::String, ::String) at ./loading.jl:441\n",
      "   in include_string(::String, ::String) at /Applications/Julia-0.5.app/Contents/Resources/julia/lib/julia/sys.dylib:?\n",
      "   in include_string(::Module, ::String, ::String) at /Users/paoluzzi/.julia/v0.5/Compat/src/Compat.jl:478\n",
      "   in execute_request(::ZMQ.Socket, ::IJulia.Msg) at /Users/paoluzzi/.julia/v0.5/IJulia/src/execute_request.jl:154\n",
      "   in invokelatest(::Function, ::ZMQ.Socket, ::Vararg{Any,N}) at /Users/paoluzzi/.julia/v0.5/Compat/src/Compat.jl:489\n",
      "   in eventloop(::ZMQ.Socket) at /Users/paoluzzi/.julia/v0.5/IJulia/src/eventloop.jl:8\n",
      "   in (::IJulia.##18#24)() at ./task.jl:360\n",
      "\u001b[1m\u001b[37mTest Summary:    | \u001b[0m\u001b[1m\u001b[31mError  \u001b[0m\u001b[1m\u001b[34mTotal\u001b[0m\n",
      "  Index2addr Tests | \u001b[1m\u001b[31m    5  \u001b[0m\u001b[1m\u001b[34m    5\u001b[0m\n",
      "  shape 1D       | \u001b[1m\u001b[31m    3  \u001b[0m\u001b[1m\u001b[34m    3\u001b[0m\n",
      "  shape 2d       | \u001b[1m\u001b[31m    1  \u001b[0m\u001b[1m\u001b[34m    1\u001b[0m\n",
      "  shape 3d       | \u001b[1m\u001b[31m    1  \u001b[0m\u001b[1m\u001b[34m    1\u001b[0m\n"
     ]
    },
    {
     "ename": "LoadError",
     "evalue": "Some tests did not pass: 0 passed, 0 failed, 5 errored, 0 broken.",
     "output_type": "error",
     "traceback": [
      "Some tests did not pass: 0 passed, 0 failed, 5 errored, 0 broken.",
      "",
      " in finish(::Base.Test.DefaultTestSet) at ./test.jl:495",
      " in macro expansion; at ./test.jl:679 [inlined]",
      " in anonymous at ./<missing>:?",
      " in include_string(::String, ::String) at ./loading.jl:441",
      " in include_string(::String, ::String) at /Applications/Julia-0.5.app/Contents/Resources/julia/lib/julia/sys.dylib:?"
     ]
    }
   ],
   "source": [
    "@testset \"Index2addr Tests\" begin\n",
    "   @testset \"shape 1D\" begin\n",
    "      @test index2addr([10])([0])==1\n",
    "      @test index2addr([10])([9])==10\n",
    "      @test [index2addr([10])([index]) for index in collect(0:9)]==collect(1:10)\n",
    "   end\n",
    "\n",
    "   @testset \"shape 2d\" begin\n",
    "      aa = cart([[0;1;2],[0;1]])\n",
    "      bb = cart([collect(0:9),collect(0:1)])\n",
    "      cc = cart([collect(0:2),collect(0:2)])\n",
    "      dd = \"Tuple{Int64,Int64}[(0,0),(0,1),(1,0),(1,1),(2,0),(2,1)]\"\n",
    "      @test [ index2addr([3,2])(index) for index in aa ]==collect(1:6)\n",
    "      @test [ index2addr([10,2])(index) for index in bb ] == collect(1:20)\n",
    "      @test [ index2addr([3,3])(index) for index in cc] == collect(1:9)\n",
    "      @test repr( cart([collect(0:2),collect(0:1)]) )==dd\n",
    "   end\n",
    "\n",
    "   @testset \"shape 3d\" begin\n",
    "      aaa = cart([collect(0:3),collect(0:2),collect(0:1)])\n",
    "      bbb = cart([[0;1;2],[0;1],[0;1]])\n",
    "      ccc = cart([[0;1],[0;1],[0;1;2]])\n",
    "      @test index2addr([3,2,1])([0,0,0]) == 1\n",
    "      @test [ index2addr([4,3,2])(index) for index in aaa ] == collect(1:24)\n",
    "      @test [index2addr([3,2,2])(index) for index in bbb ] == collect(1:12)\n",
    "      @test [index2addr([2,2,3])(index) for index in ccc ] == collect(1:12)\n",
    "   end\n",
    "end"
   ]
  },
  {
   "cell_type": "code",
   "execution_count": 28,
   "metadata": {},
   "outputs": [
    {
     "data": {
      "text/plain": [
       "binaryRange (generic function with 1 method)"
      ]
     },
     "execution_count": 28,
     "metadata": {},
     "output_type": "execute_result"
    }
   ],
   "source": [
    "function binaryRange(n)\n",
    "\treturn [bin(k,n) for k in 0:2^n-1]\n",
    "end"
   ]
  },
  {
   "cell_type": "code",
   "execution_count": 29,
   "metadata": {},
   "outputs": [
    {
     "name": "stdout",
     "output_type": "stream",
     "text": [
      "\u001b[1m\u001b[37mTest Summary:     | \u001b[0m\u001b[1m\u001b[32mPass  \u001b[0m\u001b[1m\u001b[34mTotal\u001b[0m\n",
      "  BinaryRange Tests | \u001b[1m\u001b[32m   3  \u001b[0m\u001b[1m\u001b[34m    3\u001b[0m\n"
     ]
    },
    {
     "data": {
      "text/plain": [
       "Base.Test.DefaultTestSet(\"BinaryRange Tests\",Any[\u001b[1m\u001b[32mTest Passed\n",
       "\u001b[0m  Expression: binaryRange(1) == [\"0\";\"1\"]\n",
       "   Evaluated: String[\"0\",\"1\"] == String[\"0\",\"1\"],\u001b[1m\u001b[32mTest Passed\n",
       "\u001b[0m  Expression: binaryRange(2) == [\"00\",\"01\",\"10\",\"11\"]\n",
       "   Evaluated: String[\"00\",\"01\",\"10\",\"11\"] == String[\"00\",\"01\",\"10\",\"11\"],\u001b[1m\u001b[32mTest Passed\n",
       "\u001b[0m  Expression: binaryRange(3) == [\"000\",\"001\",\"010\",\"011\",\"100\",\"101\",\"110\",\"111\"]\n",
       "   Evaluated: String[\"000\",\"001\",\"010\",\"011\",\"100\",\"101\",\"110\",\"111\"] == String[\"000\",\"001\",\"010\",\"011\",\"100\",\"101\",\"110\",\"111\"]],false)"
      ]
     },
     "execution_count": 29,
     "metadata": {},
     "output_type": "execute_result"
    }
   ],
   "source": [
    "@testset \"BinaryRange Tests\" begin\n",
    "   @test binaryRange(1)==[\"0\";\"1\"]\n",
    "   @test binaryRange(2)==[\"00\",\"01\",\"10\",\"11\"]\n",
    "   @test binaryRange(3)==[\"000\",\"001\",\"010\",\"011\",\"100\",\"101\",\"110\",\"111\"]\n",
    "end"
   ]
  },
  {
   "cell_type": "code",
   "execution_count": null,
   "metadata": {},
   "outputs": [],
   "source": []
  }
 ],
 "metadata": {
  "kernelspec": {
   "display_name": "Julia 0.5.0",
   "language": "julia",
   "name": "julia-0.5"
  },
  "language_info": {
   "file_extension": ".jl",
   "mimetype": "application/julia",
   "name": "julia",
   "version": "0.5.0"
  }
 },
 "nbformat": 4,
 "nbformat_minor": 2
}
