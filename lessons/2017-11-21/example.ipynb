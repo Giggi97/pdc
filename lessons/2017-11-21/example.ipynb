{
 "cells": [
  {
   "cell_type": "code",
   "execution_count": null,
   "metadata": {},
   "outputs": [],
   "source": [
    "function grid_0(n)\n",
    "    return hcat([[i] for i in range(0,n+1)]...)\n",
    "end"
   ]
  },
  {
   "cell_type": "code",
   "execution_count": null,
   "metadata": {},
   "outputs": [],
   "source": [
    "using Base.Test"
   ]
  },
  {
   "cell_type": "code",
   "execution_count": null,
   "metadata": {},
   "outputs": [],
   "source": [
    "@testset \"grid_0\" begin\n",
    "  @test grid_0(1) == [0  1]\n",
    "  @test grid_0(2) == [0  1  2]\n",
    "  @test grid_0(3) == [0  1  2  3]\n",
    "end"
   ]
  },
  {
   "cell_type": "code",
   "execution_count": null,
   "metadata": {},
   "outputs": [],
   "source": [
    "function grid_1(n)\n",
    "    return hcat([[i,i+1] for i in range(0,n)]...)\n",
    "end"
   ]
  },
  {
   "cell_type": "code",
   "execution_count": null,
   "metadata": {},
   "outputs": [],
   "source": [
    "@testset \"grid_1\" begin\n",
    "  @test repr(grid_1(1)) == \"[0; 1]\"\n",
    "  @test grid_1(2) == [0 1; 1 2]\n",
    "  @test grid_1(3) == [0 1 2; 1 2 3]\n",
    "end"
   ]
  },
  {
   "cell_type": "code",
   "execution_count": null,
   "metadata": {},
   "outputs": [],
   "source": [
    "function larGrid(n)\n",
    "    function larGrid1(d)\n",
    "        if d==0 \n",
    "        \treturn grid_0(n)\n",
    "        elseif d==1 \n",
    "        \treturn grid_1(n) \n",
    "        end\n",
    "    end\n",
    "    return larGrid1\n",
    "end"
   ]
  },
  {
   "cell_type": "code",
   "execution_count": null,
   "metadata": {},
   "outputs": [],
   "source": [
    "@testset \"larGrid\" begin\n",
    "  @test repr(larGrid(1)(0)) == \"[0 1]\"\n",
    "  @test repr(larGrid(1)(1)) == \"[0; 1]\"\n",
    "  @test larGrid(2)(0) == [0  1  2]\n",
    "  @test larGrid(2)(1) == [0 1; 1 2]\n",
    "  @test larGrid(3)(0) == [0  1  2  3]\n",
    "  @test larGrid(3)(1) == [0  1  2; 1  2  3]\n",
    "end"
   ]
  },
  {
   "cell_type": "code",
   "execution_count": null,
   "metadata": {},
   "outputs": [],
   "source": [
    "using IterTools\n",
    "function cart(args)\n",
    "\treturn sort(collect(IterTools.product(args...)))\n",
    "end"
   ]
  },
  {
   "cell_type": "code",
   "execution_count": null,
   "metadata": {},
   "outputs": [],
   "source": [
    "cart([\"super\"])"
   ]
  },
  {
   "cell_type": "code",
   "execution_count": 25,
   "metadata": {},
   "outputs": [
    {
     "data": {
      "text/plain": [
       "index2addr (generic function with 2 methods)"
      ]
     },
     "execution_count": 25,
     "metadata": {},
     "output_type": "execute_result"
    }
   ],
   "source": [
    "function index2addr(shape::Array{Int64,1})\n",
    "  index2addr(hcat(shape...))\n",
    "end\n",
    "\n",
    "function index2addr(shape::Array{Int64,2})\n",
    "    n = length(shape)\n",
    "    theShape = append!(shape[2:end],1)\n",
    "    weights = [prod(theShape[k:end]) for k in range(1,n)]\n",
    "    function index2addr0(multiIndex)\n",
    "        return dot(collect(multiIndex), weights) + 1\n",
    "    end\n",
    "    return index2addr0\n",
    "end"
   ]
  },
  {
   "cell_type": "code",
   "execution_count": 27,
   "metadata": {},
   "outputs": [
    {
     "name": "stdout",
     "output_type": "stream",
     "text": [
      "\u001b[1m\u001b[37mTest Summary:    | \u001b[0m\u001b[1m\u001b[32mPass  \u001b[0m\u001b[1m\u001b[34mTotal\u001b[0m\n",
      "  Index2addr Tests | \u001b[1m\u001b[32m  11  \u001b[0m\u001b[1m\u001b[34m   11\u001b[0m\n"
     ]
    },
    {
     "data": {
      "text/plain": [
       "Base.Test.DefaultTestSet(\"Index2addr Tests\",Any[Base.Test.DefaultTestSet(\"shape 1D\",Any[\u001b[1m\u001b[32mTest Passed\n",
       "\u001b[0m  Expression: (index2addr([10]))([0]) == 1\n",
       "   Evaluated: 1 == 1,\u001b[1m\u001b[32mTest Passed\n",
       "\u001b[0m  Expression: (index2addr([10]))([9]) == 10\n",
       "   Evaluated: 10 == 10,\u001b[1m\u001b[32mTest Passed\n",
       "\u001b[0m  Expression: [(index2addr([10]))([index]) for index = collect(0:9)] == collect(1:10)\n",
       "   Evaluated: [1,2,3,4,5,6,7,8,9,10] == [1,2,3,4,5,6,7,8,9,10]],false),Base.Test.DefaultTestSet(\"shape 2d\",Any[\u001b[1m\u001b[32mTest Passed\n",
       "\u001b[0m  Expression: [(index2addr([3,2]))(index) for index = aa] == collect(1:6)\n",
       "   Evaluated: [1,2,3,4,5,6] == [1,2,3,4,5,6],\u001b[1m\u001b[32mTest Passed\n",
       "\u001b[0m  Expression: [(index2addr([10,2]))(index) for index = bb] == collect(1:20)\n",
       "   Evaluated: [1,2,3,4,5,6,7,8,9,10,11,12,13,14,15,16,17,18,19,20] == [1,2,3,4,5,6,7,8,9,10,11,12,13,14,15,16,17,18,19,20],\u001b[1m\u001b[32mTest Passed\n",
       "\u001b[0m  Expression: [(index2addr([3,3]))(index) for index = cc] == collect(1:9)\n",
       "   Evaluated: [1,2,3,4,5,6,7,8,9] == [1,2,3,4,5,6,7,8,9],\u001b[1m\u001b[32mTest Passed\n",
       "\u001b[0m  Expression: repr(cart([collect(0:2),collect(0:1)])) == dd\n",
       "   Evaluated: \"Tuple{Int64,Int64}[(0,0),(0,1),(1,0),(1,1),(2,0),(2,1)]\" == \"Tuple{Int64,Int64}[(0,0),(0,1),(1,0),(1,1),(2,0),(2,1)]\"],false),Base.Test.DefaultTestSet(\"shape 3d\",Any[\u001b[1m\u001b[32mTest Passed\n",
       "\u001b[0m  Expression: (index2addr([3,2,1]))([0,0,0]) == 1\n",
       "   Evaluated: 1 == 1,\u001b[1m\u001b[32mTest Passed\n",
       "\u001b[0m  Expression: [(index2addr([4,3,2]))(index) for index = aaa] == collect(1:24)\n",
       "   Evaluated: [1,2,3,4,5,6,7,8,9,10  …  15,16,17,18,19,20,21,22,23,24] == [1,2,3,4,5,6,7,8,9,10  …  15,16,17,18,19,20,21,22,23,24],\u001b[1m\u001b[32mTest Passed\n",
       "\u001b[0m  Expression: [(index2addr([3,2,2]))(index) for index = bbb] == collect(1:12)\n",
       "   Evaluated: [1,2,3,4,5,6,7,8,9,10,11,12] == [1,2,3,4,5,6,7,8,9,10,11,12],\u001b[1m\u001b[32mTest Passed\n",
       "\u001b[0m  Expression: [(index2addr([2,2,3]))(index) for index = ccc] == collect(1:12)\n",
       "   Evaluated: [1,2,3,4,5,6,7,8,9,10,11,12] == [1,2,3,4,5,6,7,8,9,10,11,12]],false)],false)"
      ]
     },
     "execution_count": 27,
     "metadata": {},
     "output_type": "execute_result"
    }
   ],
   "source": [
    "@testset \"Index2addr Tests\" begin\n",
    "   @testset \"shape 1D\" begin\n",
    "      @test index2addr([10])([0])==1\n",
    "      @test index2addr([10])([9])==10\n",
    "      @test [index2addr([10])([index]) for index in collect(0:9)]==collect(1:10)\n",
    "   end\n",
    "\n",
    "   @testset \"shape 2d\" begin\n",
    "      aa = cart([[0;1;2],[0;1]])\n",
    "      bb = cart([collect(0:9),collect(0:1)])\n",
    "      cc = cart([collect(0:2),collect(0:2)])\n",
    "      dd = \"Tuple{Int64,Int64}[(0,0),(0,1),(1,0),(1,1),(2,0),(2,1)]\"\n",
    "      @test [ index2addr([3,2])(index) for index in aa ]==collect(1:6)\n",
    "      @test [ index2addr([10,2])(index) for index in bb ] == collect(1:20)\n",
    "      @test [ index2addr([3,3])(index) for index in cc] == collect(1:9)\n",
    "      @test repr( cart([collect(0:2),collect(0:1)]) )==dd\n",
    "   end\n",
    "\n",
    "   @testset \"shape 3d\" begin\n",
    "      aaa = cart([collect(0:3),collect(0:2),collect(0:1)])\n",
    "      bbb = cart([[0;1;2],[0;1],[0;1]])\n",
    "      ccc = cart([[0;1],[0;1],[0;1;2]])\n",
    "      @test index2addr([3,2,1])([0,0,0]) == 1\n",
    "      @test [ index2addr([4,3,2])(index) for index in aaa ] == collect(1:24)\n",
    "      @test [index2addr([3,2,2])(index) for index in bbb ] == collect(1:12)\n",
    "      @test [index2addr([2,2,3])(index) for index in ccc ] == collect(1:12)\n",
    "   end\n",
    "end"
   ]
  },
  {
   "cell_type": "code",
   "execution_count": 28,
   "metadata": {},
   "outputs": [
    {
     "data": {
      "text/plain": [
       "binaryRange (generic function with 1 method)"
      ]
     },
     "execution_count": 28,
     "metadata": {},
     "output_type": "execute_result"
    }
   ],
   "source": [
    "function binaryRange(n)\n",
    "\treturn [bin(k,n) for k in 0:2^n-1]\n",
    "end"
   ]
  },
  {
   "cell_type": "code",
   "execution_count": 29,
   "metadata": {},
   "outputs": [
    {
     "name": "stdout",
     "output_type": "stream",
     "text": [
      "\u001b[1m\u001b[37mTest Summary:     | \u001b[0m\u001b[1m\u001b[32mPass  \u001b[0m\u001b[1m\u001b[34mTotal\u001b[0m\n",
      "  BinaryRange Tests | \u001b[1m\u001b[32m   3  \u001b[0m\u001b[1m\u001b[34m    3\u001b[0m\n"
     ]
    },
    {
     "data": {
      "text/plain": [
       "Base.Test.DefaultTestSet(\"BinaryRange Tests\",Any[\u001b[1m\u001b[32mTest Passed\n",
       "\u001b[0m  Expression: binaryRange(1) == [\"0\";\"1\"]\n",
       "   Evaluated: String[\"0\",\"1\"] == String[\"0\",\"1\"],\u001b[1m\u001b[32mTest Passed\n",
       "\u001b[0m  Expression: binaryRange(2) == [\"00\",\"01\",\"10\",\"11\"]\n",
       "   Evaluated: String[\"00\",\"01\",\"10\",\"11\"] == String[\"00\",\"01\",\"10\",\"11\"],\u001b[1m\u001b[32mTest Passed\n",
       "\u001b[0m  Expression: binaryRange(3) == [\"000\",\"001\",\"010\",\"011\",\"100\",\"101\",\"110\",\"111\"]\n",
       "   Evaluated: String[\"000\",\"001\",\"010\",\"011\",\"100\",\"101\",\"110\",\"111\"] == String[\"000\",\"001\",\"010\",\"011\",\"100\",\"101\",\"110\",\"111\"]],false)"
      ]
     },
     "execution_count": 29,
     "metadata": {},
     "output_type": "execute_result"
    }
   ],
   "source": [
    "@testset \"BinaryRange Tests\" begin\n",
    "   @test binaryRange(1)==[\"0\";\"1\"]\n",
    "   @test binaryRange(2)==[\"00\",\"01\",\"10\",\"11\"]\n",
    "   @test binaryRange(3)==[\"000\",\"001\",\"010\",\"011\",\"100\",\"101\",\"110\",\"111\"]\n",
    "end"
   ]
  },
  {
   "cell_type": "code",
   "execution_count": null,
   "metadata": {},
   "outputs": [],
   "source": []
  }
 ],
 "metadata": {
  "kernelspec": {
   "display_name": "Julia 0.5.0",
   "language": "julia",
   "name": "julia-0.5"
  },
  "language_info": {
   "file_extension": ".jl",
   "mimetype": "application/julia",
   "name": "julia",
   "version": "0.5.0"
  }
 },
 "nbformat": 4,
 "nbformat_minor": 2
}
